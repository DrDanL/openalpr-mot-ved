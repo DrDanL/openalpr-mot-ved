{
 "cells": [
  {
   "cell_type": "markdown",
   "metadata": {},
   "source": [
    "# Automatic number plate recognition with MOT and VED check"
   ]
  },
  {
   "cell_type": "markdown",
   "metadata": {},
   "source": [
    "I cycle, a lot, and I use a front-facing GoPro camera to protect me from rogue drivers, cyclist and pedestrians. Last week I made a report of bad driving (super close pass) and the Metropolitan Police not only charged the driver with dangerous driving, but also for driving with an MOT. This incident got me thinking, wouldn't it be great to have you own Automatic Number Plate Recognition (aka ANPR) system?\n",
    "\n",
    "This post presents an offline APNR system written in Python, with the capability of checking if a vehicle has a valid MOT and VED. \n",
    "\n",
    "I will follow-up in a couple of weeks on how you can make it real-time (interfacing with GoPro) using a Raspberry PI! \n"
   ]
  },
  {
   "cell_type": "markdown",
   "metadata": {},
   "source": [
    "## Getting started"
   ]
  },
  {
   "cell_type": "markdown",
   "metadata": {},
   "source": [
    "To get started, you need to ensure you have [Python](https://www.python.org/) (version 3) installed, along with the following packages (all installed via pip except [OpenALPR](https://www.openalpr.com/)):\n",
    "\n",
    "* [Numpy](http://www.numpy.org/): This is a library for scientific computing with Python;\n",
    "* [OpenCv](https://opencv.org/): This is a library used in computer vision;\n",
    "* [OpenALPR](https://www.openalpr.com/): You need to grab the runtime libraries. "
   ]
  },
  {
   "cell_type": "markdown",
   "metadata": {},
   "source": [
    "## Install OpenALPR"
   ]
  },
  {
   "cell_type": "markdown",
   "metadata": {},
   "source": [
    "[OpenALPR](https://github.com/openalpr/openalpr) is an open source Automatic License Plate Recognition library written in C++ with bindings in C#, Java, Node.js, Go, and Python. The library analyses images and video streams to identify license plates. \n",
    "\n",
    "For this project, we need to download and locate in the project folder the run time libraries. You can then important them using the following Python syntax. "
   ]
  },
  {
   "cell_type": "code",
   "execution_count": null,
   "metadata": {},
   "outputs": [],
   "source": [
    "from openalpr import Alpr\n",
    "\n",
    "alpr = Alpr(\"gb\", \"./openalpr.conf.user\", \"./runtime_data\")\n",
    "if not alpr.is_loaded():\n",
    "    print(\"Error loading OpenALPR\")\n",
    "    sys.exit(1)\n",
    "else:\n",
    "print(\"OpenALPR loaded successfully\")\n",
    "\n",
    "#Optionally specify the top N possible plates to return (with confidences).  Default is 10\n",
    "alpr.set_top_n(1)\n",
    "alpr.set_default_region(\"gb\")"
   ]
  },
  {
   "cell_type": "code",
   "execution_count": null,
   "metadata": {},
   "outputs": [],
   "source": []
  }
 ],
 "metadata": {
  "kernelspec": {
   "display_name": "Python 3",
   "language": "python",
   "name": "python3"
  },
  "language_info": {
   "codemirror_mode": {
    "name": "ipython",
    "version": 3
   },
   "file_extension": ".py",
   "mimetype": "text/x-python",
   "name": "python",
   "nbconvert_exporter": "python",
   "pygments_lexer": "ipython3",
   "version": "3.6.5"
  }
 },
 "nbformat": 4,
 "nbformat_minor": 2
}
